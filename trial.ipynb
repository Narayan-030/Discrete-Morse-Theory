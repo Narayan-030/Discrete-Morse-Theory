{
 "cells": [
  {
   "cell_type": "code",
   "execution_count": 19,
   "metadata": {},
   "outputs": [],
   "source": [
    "\n",
    "import numpy as np\n",
    "import networkx as nx\n",
    "import itertools\n",
    "import gudhi as gd\n",
    "###########################################################examples\n",
    "#G = nx.circulant_graph(7,[1])\n",
    "#simplices = nx.enumerate_all_cliques(G)\n",
    "#simplices = [i for i in simplices]\n",
    "#simplices = [[0], [1], [2], [3]]\n",
    "\n",
    "#simplices = [[0],[1],[2],[3],[4],[5],[6],[7],[8],[9],[10],[11],[0,1],[0,2],[1,2],[2,3],[3,4],[3,5],[3,6],[4,5],[4,6],[5,6],[6,7],[7,8],[7,9],[7,10],[8,9],[8,10],[9,10],[3,4,5],[3,4,6],[3,5,6],[4,5,6],[7,8,9],[7,8,10],[7,9,10],[8,9,10]]\n",
    "#Here is our triangulation:\n",
    "#   0-----3-----4-----0\n",
    "#   | \\   | \\   | \\   | \\   |\n",
    "#   |   \\ |   \\ |    \\|   \\ | \n",
    "#   1-----8-----7-----1\n",
    "#   | \\   | \\   | \\   | \\   |\n",
    "#   |   \\ |   \\ |   \\ |   \\ |\n",
    "#   2-----5-----6-----2\n",
    "#   | \\   | \\   | \\   | \\   |\n",
    "#   |   \\ |   \\ |   \\ |   \\ |\n",
    "#   0-----3-----4-----0\n",
    "st = gd.SimplexTree()\n",
    "st.insert([0,1,8])\n",
    "st.insert([0,3,8])\n",
    "st.insert([3,7,8])\n",
    "st.insert([3,4,7])\n",
    "st.insert([1,4,7])\n",
    "st.insert([0,1,4])\n",
    "st.insert([1,2,5])\n",
    "st.insert([1,5,8])\n",
    "st.insert([5,6,8])\n",
    "st.insert([6,7,8])\n",
    "st.insert([2,6,7])\n",
    "st.insert([1,2,7])\n",
    "st.insert([0,2,3])\n",
    "st.insert([2,3,5])\n",
    "st.insert([3,4,5])\n",
    "st.insert([4,5,6])\n",
    "st.insert([0,4,6])\n",
    "st.insert([0,2,6])\n",
    "\n",
    "simplices = [a for a,b in st.get_simplices()]\n",
    "simplices = sorted(simplices)\n",
    "#print(simplices)\n",
    "\n"
   ]
  },
  {
   "cell_type": "code",
   "execution_count": 20,
   "metadata": {},
   "outputs": [
    {
     "name": "stdout",
     "output_type": "stream",
     "text": [
      "[[0, 1, 4], [0, 1, 8], [0, 2, 3], [0, 2, 6], [0, 3, 8], [0, 4, 6], [1, 2, 5], [1, 2, 7], [1, 4, 7], [1, 5, 8], [2, 3, 5], [2, 6, 7], [3, 4, 5], [3, 4, 7], [3, 7, 8], [4, 5, 6], [5, 6, 8], [6, 7, 8]]\n"
     ]
    }
   ],
   "source": [
    "#functions\n",
    "def k_th_simplices(k,simplicial_complex):\n",
    "    k_simplexes = [i for i in simplicial_complex if len(i)==k]\n",
    "    return k_simplexes\n",
    "\n",
    "def face(simplex):\n",
    "    return [list(i) for i in list(itertools.combinations(simplex, len(simplex)-1))]\n",
    "\n",
    "#define a function that returns true or false if sigma is face of tau(automatically just checks for dim(sigma) = dim(tau)-1 simplices)\n",
    "def adj(sigma,tau):\n",
    "    faces = face(tau)\n",
    "    if sigma in faces:\n",
    "        return True\n",
    "    else:\n",
    "        return False\n",
    "#reemove an element in a list of a list type of structure\n",
    "def remove(input_list,element):\n",
    "    input_list = np.array(input_list)\n",
    "    for i in element:\n",
    "        input_list = np.delete(input_list,input_list.tolist().index(i),axis = 0)\n",
    "    return input_list.tolist()\n",
    "#checks if an unmatched edge is adjecent to only 1 unmatched triangle or not\n",
    "\n",
    "#def check(triangle_list,edge):\n",
    "    \n",
    "    \n",
    "\n",
    "#get all the k+1 simplices that have k simpex as their face\n",
    "\n",
    "nodes = k_th_simplices(1,simplices)\n",
    "edges = k_th_simplices(2,simplices)\n",
    "triangles = k_th_simplices(3,simplices)\n",
    "\n",
    "\n",
    "\n",
    "print(triangles)\n"
   ]
  },
  {
   "cell_type": "code",
   "execution_count": 21,
   "metadata": {},
   "outputs": [
    {
     "name": "stdout",
     "output_type": "stream",
     "text": [
      "27\n"
     ]
    }
   ],
   "source": [
    "#NODES TO EDGES MATCHING\n",
    "\n",
    "#consider a node to be critical\n",
    "\n",
    "lc = nodes[6]\n",
    "acyclic = []\n",
    "matched_edges = []\n",
    "matched_nodes = []\n",
    "#get all the edges that have 0 node as its faces\n",
    "for i in edges:\n",
    "    if adj(lc,i) == True:\n",
    "        acyclic.append((remove(i,lc),i))\n",
    "        matched_edges.append(i)\n",
    "        matched_nodes.append(remove(i,lc))\n",
    "\n",
    "for j in matched_nodes:\n",
    "    lc = j\n",
    "    for i in remove(edges,matched_edges):\n",
    "        if adj(j,i) == True and remove(i,j) not in matched_nodes:\n",
    "            acyclic.append((remove(i,lc),i))\n",
    "            matched_edges.append(i)\n",
    "            matched_nodes.append(remove(i,lc))\n",
    "        else:\n",
    "            continue\n",
    "\n",
    "\n",
    "unmatched_nodes = [i for i in remove(nodes,matched_nodes)]\n",
    "unmatched_edges = [i for i in remove(edges,matched_edges)]\n",
    "AC_critical_node = [i for i in unmatched_nodes]\n",
    "print(len(edges))"
   ]
  },
  {
   "cell_type": "code",
   "execution_count": 22,
   "metadata": {},
   "outputs": [
    {
     "name": "stdout",
     "output_type": "stream",
     "text": [
      "[[6]]\n",
      "[[0, 8], [1, 2]]\n",
      "[[3, 4, 7]]\n"
     ]
    }
   ],
   "source": [
    "matched_triangles = []\n",
    "#############################################GENERALIZE THIS PART\n",
    "#print(critical_edges)\n",
    "#get all the triangles for 2 edges are matched\n",
    "#map the unmatched edge into that triangle\n",
    "AC_critical_edge = []\n",
    "    \n",
    "for i in triangles:\n",
    "    for j in unmatched_edges:  \n",
    "        if j in face(i):\n",
    "            A = remove(face(i),[j]) \n",
    "            a,b = A[0],A[1] \n",
    "            if a in matched_edges and b in matched_edges and i not in matched_triangles and j not in matched_edges:\n",
    "                matched_triangles.append(i)\n",
    "                matched_edges.append(j)\n",
    "                acyclic.append((j,i))\n",
    "\n",
    "     \n",
    "\n",
    "unmatched_triangles = remove(triangles,matched_triangles)\n",
    "unmatched_edges = remove(edges,matched_edges)\n",
    "temp = 0\n",
    "while len(matched_edges)+len(AC_critical_edge)< len(edges):\n",
    "    for i in triangles:\n",
    "        for j in unmatched_edges:  \n",
    "            if j in face(i)  and j not in AC_critical_edge and j not in matched_edges:\n",
    "                A = remove(face(i),[j]) \n",
    "                a,b = A[0],A[1] \n",
    "                if a in matched_edges+AC_critical_edge and b in matched_edges+AC_critical_edge and i not in matched_triangles:\n",
    "                    matched_triangles.append(i)\n",
    "                    matched_edges.append(j)\n",
    "                    acyclic.append((j,i))\n",
    "\n",
    "    unmatched_edges = [i for i in remove(edges,matched_edges)]\n",
    "    if len(AC_critical_edge)<len(unmatched_edges):\n",
    "        AC_critical_edge.append(unmatched_edges[temp])\n",
    "        temp = temp+1\n",
    "    \n",
    "\n",
    "\n",
    "AC_critical_triangle = remove(triangles,matched_triangles)\n",
    "print(AC_critical_node)\n",
    "print(AC_critical_edge)\n",
    "print(AC_critical_triangle)\n",
    "###############################################################################\n",
    "#please note that here the algorithm where while trying to match the edges with all the nodes and all the triangles, \n",
    "# need to make sure that the edge is adjecent to only to 1 triangle i.e define  check fn such that edges match\n",
    "#with triangles only if there are no other alternatives.\n",
    "\n",
    "#in our above if condition I have used that both other edges must be matched for a triangle inorder for the triangle to be matched with\n",
    "#the unmatched edges. The else condition where I need to force that one of the edges need to be made Critical is not added!!!!!!!!!"
   ]
  },
  {
   "cell_type": "code",
   "execution_count": 23,
   "metadata": {},
   "outputs": [
    {
     "name": "stdout",
     "output_type": "stream",
     "text": [
      "[[[0, 1], [0, 3], [2, 3], [2, 5], [3, 5], [3, 4], [4, 6]], [[2, 6]]]\n"
     ]
    }
   ],
   "source": [
    "#gradient paths\n",
    "#################################GET THE GRADIENT PATHS FOR THE TRIANGLE AND EDGES\n",
    "#print(acyclic)\n",
    "#get a critical edge from the critical edge list\n",
    "#get a corresponding critical node from the critical node list\n",
    "\n",
    "def path_iter(c_edge,c_node,matched_edge_set): #input:critical edge,matched edge set\n",
    "    gradient_paths = []\n",
    "    \n",
    "    for z in face(c_edge):\n",
    "        g1 = []\n",
    "        \n",
    "        for j in range(len(matched_edge_set)):\n",
    "            for i in matched_edge_set:\n",
    "                if z != c_node and adj(z,i)==True and i not in g1:\n",
    "                    g1.append(i)\n",
    "                    z = remove(i,z)\n",
    "\n",
    "        if c_node in face(g1[-1]):            \n",
    "            gradient_paths.append(g1)\n",
    "                   \n",
    "    return gradient_paths\n",
    "\n",
    "print(path_iter(AC_critical_edge[1],AC_critical_node[0],matched_edges))\n",
    "\n",
    "\n",
    "\n",
    "#define a function where given an edge it gives another edge that share a same node "
   ]
  },
  {
   "cell_type": "code",
   "execution_count": 24,
   "metadata": {},
   "outputs": [
    {
     "name": "stdout",
     "output_type": "stream",
     "text": [
      "[[0, 2, 6], [0, 4, 6], [2, 6, 7], [4, 5, 6], [5, 6, 8], [6, 7, 8], [0, 1, 4], [0, 2, 3], [0, 1, 8], [0, 3, 8], [1, 5, 8], [3, 7, 8], [1, 2, 5], [1, 2, 7], [1, 4, 7], [2, 3, 5], [3, 4, 5]]\n",
      "[]\n"
     ]
    }
   ],
   "source": [
    "def path_iter_tri(critical_triangle,critical_edge,ACyclic_matched_list):\n",
    "    gradient_paths = []\n",
    "    non_gradient_paths = []\n",
    "    temp = [b for a,b in ACyclic_matched_list if len(b)==3]\n",
    "    print(temp)\n",
    "    for z in face(critical_triangle):\n",
    "        g1 = []\n",
    "        \n",
    "        for j in range(len(temp)):\n",
    "            for i in temp:\n",
    "                if z != critical_edge and adj(z,i)==True and i not in g1 and (z,i) in ACyclic_matched_list:\n",
    "                    g1.append(i)\n",
    "                    z = remove(i,z)\n",
    "        if critical_edge in face(g1[-1]):            \n",
    "            gradient_paths.append(g1)\n",
    "                    \n",
    "    return gradient_paths\n",
    "\n",
    "print(path_iter_tri(AC_critical_triangle[0] ,AC_critical_edge[0],acyclic))"
   ]
  }
 ],
 "metadata": {
  "interpreter": {
   "hash": "92d6c57cc837971ac853d7198572ae771372c9c8bc98fd8245ebfbe3b1b111da"
  },
  "kernelspec": {
   "display_name": "Python 3.8.10 64-bit",
   "language": "python",
   "name": "python3"
  },
  "language_info": {
   "codemirror_mode": {
    "name": "ipython",
    "version": 3
   },
   "file_extension": ".py",
   "mimetype": "text/x-python",
   "name": "python",
   "nbconvert_exporter": "python",
   "pygments_lexer": "ipython3",
   "version": "3.8.10"
  },
  "orig_nbformat": 4
 },
 "nbformat": 4,
 "nbformat_minor": 2
}
